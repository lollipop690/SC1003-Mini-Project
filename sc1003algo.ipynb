{
 "cells": [
  {
   "cell_type": "code",
   "execution_count": null,
   "id": "16d63e8f",
   "metadata": {},
   "outputs": [],
   "source": [
    "import csv"
   ]
  },
  {
   "cell_type": "code",
   "execution_count": null,
   "id": "861fdff8",
   "metadata": {},
   "outputs": [],
   "source": [
    "def read_student_data(file_path=\"records.csv\"): # opens file called records.csv -- obselete do not use this function\n",
    "    records = [] #generates empty list\n",
    "    try:\n",
    "        with open(file_path, mode='r', newline='') as file:\n",
    "            reader = csv.DictReader(file)\n",
    "            for row in reader: \n",
    "                row['CGPA'] = float(row['CGPA'])#changes cgpa data type from str to flt, so we can iterate on it\n",
    "                records.append(row)#puts the list into the records list, creating list of lists\n",
    "    except FileNotFoundError:\n",
    "        print(f\"Error: The file {file_path} was not found.\")#handles situation where file is gone\n",
    "        return None\n",
    "    return records#this function can be replaced by the json loader"
   ]
  },
  {
   "cell_type": "code",
   "execution_count": null,
   "id": "5802330f",
   "metadata": {},
   "outputs": [],
   "source": [
    "def students_by_tg(student_data): #reads the output list of list from the previous function\n",
    "    tutorial_groups = {} #empty dict\n",
    "    for student in student_data:\n",
    "        tg = student[\"Tutorial Group\"] #initialising tg variable to the tg of indv students\n",
    "        if tg not in tutorial_groups: \n",
    "            tutorial_groups[tg] = [] #creates new tg if not already present\n",
    "        tutorial_groups[tg].append(student) #adds the student to their tg\n",
    "    return tutorial_groups"
   ]
  },
  {
   "cell_type": "code",
   "execution_count": null,
   "id": "3bb53397",
   "metadata": {},
   "outputs": [],
   "source": [
    "def snake_draft(students_sorted, num_teams=10): #this function creates a WIP grouping for an individual tg based solely on gpa in a snake draft format\n",
    "    teams = [[] for tm in range(num_teams)] # generates an empty list for each team\n",
    "    \n",
    "    current_team_index = 0\n",
    "    direction = 1\n",
    "\n",
    "    for student in students_sorted:\n",
    "        teams[current_team_index].append(student) #adds the student at current index to the current group(ungrouped student with the lowest index-highest gpa)\n",
    "        current_team_index += direction\n",
    "\n",
    "        if current_team_index == num_teams: #block to reverse direction, creating the snake draft\n",
    "            direction = -1\n",
    "            current_team_index = num_teams - 1\n",
    "        elif current_team_index == -1:\n",
    "            direction = 1\n",
    "            current_team_index = 0\n",
    "            \n",
    "    return teams"
   ]
  },
  {
   "cell_type": "code",
   "execution_count": null,
   "id": "a5efedef",
   "metadata": {},
   "outputs": [],
   "source": [
    "def diversity_score(team): #grades how diverse each group is(lower better)\n",
    "    score = 0\n",
    "    gender_counts = {}\n",
    "    school_counts = {}\n",
    "\n",
    "    for student in team:\n",
    "        gender_counts[student['Gender']] = gender_counts.get(student['Gender'], 0) + 1\n",
    "        school_counts[student['School']] = school_counts.get(student['School'], 0) + 1\n",
    "\n",
    "    for count in gender_counts.values():\n",
    "        if count >= 3:\n",
    "            score += (count - 2) * 10 #every 3rd person onwards of the same gender will add 10 to the diversity score\n",
    "\n",
    "    for count in school_counts.values():\n",
    "        if count >= 2:\n",
    "            score += (count - 2) * 10 #every 2nd person onwards of the same school will add 10 to the diversity score\n"
   ]
  },
  {
   "cell_type": "code",
   "execution_count": null,
   "id": "2627edd2",
   "metadata": {},
   "outputs": [],
   "source": [
    "def total_cgpa_variance(teams):\n",
    "    if not teams or not all(teams):\n",
    "        return 0\n",
    "    \n",
    "    team_averages = [sum(s['CGPA'] for s in team) / len(team) for team in teams] #calculate the average cgpa of each group\n",
    "    overall_average = sum(team_averages) / len(team_averages) #calculate the average cgpa of the tg\n",
    "    \n",
    "    variance = sum((avg - overall_average) ** 2 for avg in team_averages) / len(team_averages) #calculates the variance of the average tg (standard s^2 variance)\n",
    "    return variance"
   ]
  },
  {
   "cell_type": "code",
   "execution_count": null,
   "id": "c07333f3",
   "metadata": {},
   "outputs": [],
   "source": [
    "def optimize_teams_with_gpa_check(teams_in_tg):\n",
    "    DIVERSITY_WEIGHT = 0.70\n",
    "    CGPA_WEIGHT = 0.30  #weights\n",
    "\n",
    "    for k in range(1000): #this number is the number of tests to run\n",
    "        current_diversity_score = sum(diversity_score(t) for t in teams_in_tg)\n",
    "        current_cgpa_variance = total_cgpa_variance(teams_in_tg) #calculate the initial score and variance for this instance here\n",
    "\n",
    "        if current_diversity_score == 0 and current_cgpa_variance < 0.001: #near perfect criteria, prevents unnecessary recursions\n",
    "            break \n",
    "\n",
    "        best_improvement_score = 0\n",
    "        best_swap_details = None #instansiation of vars\n",
    "\n",
    "        for i in range(len(teams_in_tg)):\n",
    "            for j in range(i + 1, len(teams_in_tg)): #every possible combination of teams\n",
    "\n",
    "                for s1_idx in range(len(teams_in_tg[i])):\n",
    "                    for s2_idx in range(len(teams_in_tg[j])): \n",
    "                        team1 = teams_in_tg[i]\n",
    "                        team2 = teams_in_tg[j] #every possible combination of students within the teams\n",
    "\n",
    "                        team1[s1_idx], team2[s2_idx] = team2[s2_idx], team1[s1_idx] #simulate the swap\n",
    "\n",
    "                        new_diversity_score = sum(diversity_score(t) for t in teams_in_tg)\n",
    "                        new_cgpa_variance = total_cgpa_variance(teams_in_tg) #new scores for the swap\n",
    "                        \n",
    "                        diversity_improvement = current_diversity_score - new_diversity_score # change in diversity score, we want this to be positive \n",
    "                        cgpa_improvement = current_cgpa_variance - new_cgpa_variance # change in variance, we want this to be positive\n",
    "\n",
    "                        total_improvement = (diversity_improvement * DIVERSITY_WEIGHT) + (cgpa_improvement * CGPA_WEIGHT)#weighted improvement\n",
    "\n",
    "                        if total_improvement > best_improvement_score:\n",
    "                            best_improvement_score = total_improvement\n",
    "                            best_swap_details = (i, j, s1_idx, s2_idx) #stores the swap details if this is the best possible swap\n",
    "\n",
    "                        team1[s1_idx], team2[s2_idx] = team2[s2_idx], team1[s1_idx]#swap back to check the other possibilities before moving on\n",
    "        \n",
    "        if best_swap_details:\n",
    "            i, j, s1, s2 = best_swap_details\n",
    "            teams_in_tg[i][s1], teams_in_tg[j][s2] = teams_in_tg[j][s2], teams_in_tg[i][s1]#sets the best swap found\n",
    "        else:\n",
    "            break #if we cant find an improvement, stops the loop\n",
    "            \n",
    "    return teams_in_tg"
   ]
  },
  {
   "cell_type": "code",
   "execution_count": null,
   "id": "147d777e",
   "metadata": {},
   "outputs": [],
   "source": [
    "def data_compilation(all_optimized_tgs): #prepares data for csv writing and assigns team numbers\n",
    "    final_student_list = []\n",
    "    sorted_tg_names = sorted(all_optimized_tgs.keys())\n",
    "\n",
    "    for tg_name in sorted_tg_names:\n",
    "        list_of_teams = all_optimized_tgs[tg_name]#grabs the list of teams in a tg\n",
    "        for team_index, team in enumerate(list_of_teams):\n",
    "            team_number = team_index + 1 # adds a group number \n",
    "            for student in team:\n",
    "                student[\"Team Assigned\"] = team_number #assigns the group number to the student\n",
    "                final_student_list.append(student) #adds the student, with all their data into the list as a list\n",
    "    return final_student_list"
   ]
  },
  {
   "cell_type": "code",
   "execution_count": null,
   "id": "b0aba806",
   "metadata": {},
   "outputs": [],
   "source": [
    "def write_output_csv(final_student_list, output_path=\"final_teams.csv\"):\n",
    "    if not final_student_list:\n",
    "        print(\"No data available to write.\") #incase of faulty inputs\n",
    "        return\n",
    "    \n",
    "    headers = [\"Tutorial Group\", \"Team Assigned\", \"Student ID\", \"Name\", \"School\", \"Gender\", \"CGPA\"] #initialise the headers\n",
    "    \n",
    "    output_data = [{header: student.get(header) for header in headers} for student in final_student_list]\n",
    "\n",
    "    with open(output_path, mode='w', newline='') as file:\n",
    "        writer = csv.DictWriter(file, fieldnames=headers)\n",
    "        writer.writeheader()\n",
    "        writer.writerows(output_data) #write file\n",
    "    print(f\"Successfully created GPA-optimized allocation file: {output_path}\")\n"
   ]
  },
  {
   "cell_type": "code",
   "execution_count": null,
   "id": "f9e8e914",
   "metadata": {},
   "outputs": [],
   "source": [
    "data = read_student_data(\"records.csv\") #reads data\n",
    "    \n",
    "if data: #incase the data is invalid\n",
    "    tutorial_groups = students_by_tg(data)\n",
    "    all_optimized_teams = {}\n",
    "\n",
    "    for tg_name, students in tutorial_groups.items():\n",
    "        print(f\"Processing Tutorial Group: {tg_name}...\")\n",
    "        initial_teams = snake_draft(students)\n",
    "        optimized_teams = optimize_teams_with_gpa_check(initial_teams)\n",
    "        all_optimized_teams[tg_name] = optimized_teams\n",
    "\n",
    "    final_list = data_compilation(all_optimized_teams)\n",
    "    write_output_csv(final_list)"
   ]
  }
 ],
 "metadata": {
  "kernelspec": {
   "display_name": ".venv",
   "language": "python",
   "name": "python3"
  },
  "language_info": {
   "name": "python",
   "version": "3.13.5"
  }
 },
 "nbformat": 4,
 "nbformat_minor": 5
}
