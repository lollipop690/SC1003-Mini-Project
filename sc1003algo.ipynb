{
 "cells": [
  {
   "cell_type": "code",
   "execution_count": null,
   "id": "16d63e8f",
   "metadata": {},
   "outputs": [],
   "source": [
    "import csv"
   ]
  },
  {
   "cell_type": "code",
   "execution_count": null,
   "id": "861fdff8",
   "metadata": {},
   "outputs": [],
   "source": [
    "def read_student_data(file_path=\"records.csv\"): # opens file called records.csv\n",
    "    records = [] #generates empty list\n",
    "    try:\n",
    "        with open(file_path, mode='r', newline='') as file:\n",
    "            reader = csv.DictReader(file)\n",
    "            for row in reader: \n",
    "                row['CGPA'] = float(row['CGPA'])#changes cgpa data type from str to flt, so we can iterate on it\n",
    "                records.append(row)#puts the list into the records list, creating list of lists\n",
    "    except FileNotFoundError:\n",
    "        print(f\"Error: The file {file_path} was not found.\")#handles situation where file is gone\n",
    "        return None\n",
    "    return records"
   ]
  },
  {
   "cell_type": "code",
   "execution_count": null,
   "id": "5802330f",
   "metadata": {},
   "outputs": [],
   "source": [
    "def students_by_tg(student_data): #reads the output list of list from the previous function\n",
    "    tutorial_groups = {} #empty dict\n",
    "    for student in student_data:\n",
    "        tg = student[\"Tutorial Group\"] #initialising tg variable to the tg of indv students\n",
    "        if tg not in tutorial_groups: \n",
    "            tutorial_groups[tg] = [] #creates new tg if not already present\n",
    "        tutorial_groups[tg].append(student) #adds the student to their tg\n",
    "    return tutorial_groups"
   ]
  }
 ],
 "metadata": {
  "language_info": {
   "name": "python"
  }
 },
 "nbformat": 4,
 "nbformat_minor": 5
}
