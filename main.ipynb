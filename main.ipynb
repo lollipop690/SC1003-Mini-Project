{
 "cells": [
  {
   "cell_type": "markdown",
   "id": "a9bf1bf7",
   "metadata": {
    "vscode": {
     "languageId": "html"
    }
   },
   "source": [
    "<h1 style=\"margin:0; line-height:1.5; padding:0;\">Intro to Computational Thinking and Programming - Group 4</h1>\n",
    "<p style=\"margin:0;line-height:1; padding:0; font-size:20px;\">Team Allocation Simulator</p>\n",
    "<h5 style=\"margin:0; margin-top:10px; line-height:1; padding:0; padding-top:10px; color:rgba(231, 60, 60, 1); text-decoration: underline; font-weight:bold;\">Objective:</h5>\n",
    "<ol>\n",
    "    <li>School Affliation: No majority of students from the same school</li>\n",
    "    <li>Gender: No majority of students of the same gender</li>\n",
    "    <li>Current CGPA: To balance academic performance</li>\n",
    "</ol>\n",
    "\n",
    "<p>This block imports the necessary libraries, provides the path to the data file\n",
    "and defines a variable for the teamsize to allow for further customisation</p>\n",
    "\n",
    "<style>\n",
    "ol{\n",
    "    line-height:.2;\n",
    "    margin-top:5px;\n",
    "    padding-top:5px;\n",
    "}\n",
    "\n",
    "li{\n",
    "    line-height:1.3;\n",
    "}\n",
    "</style>"
   ]
  },
  {
   "cell_type": "code",
   "execution_count": 2,
   "id": "ec5f92f8",
   "metadata": {},
   "outputs": [],
   "source": [
    "import csv\n",
    "import matplotlib.pyplot as plt\n",
    "import json\n",
    "path = \"records.csv\" #this is the path to the data file\n",
    "teamsize = 5"
   ]
  },
  {
   "cell_type": "markdown",
   "id": "29b59ca1",
   "metadata": {},
   "source": [
    "<h5 style=\"text-decoration:underline; margin:0; padding:0; line-height:1; font-weight:bold;\">Reading and Sorting Data</h5>\n",
    "<p>Define a function called <b>tut_grp_json</b> that reads data from the <b>records.csv file</b> and creates a <b>tut_grp.json file</b> that contains the students details sorted based on their tutorial group in a numerical order</p>\n",
    "<p>Pseudocode:</p>\n",
    "<pre>\n",
    "Function tut_grp_json(path, json_filename='tut_grp'):\n",
    "    1. Append '.json' to json_filename\n",
    "    2. Create empty dictionary data to store results\n",
    "    3. Open CSV file at path for reading:\n",
    "        a. Create DictReader for the file\n",
    "        b. For each row in the CSV:\n",
    "            - Extract and remove 'Tutorial Group' from row as key\n",
    "            - If key not in data:\n",
    "                Create new list with row as first item\n",
    "            - Else:\n",
    "                Append row to existing list for that key\n",
    "        \n",
    "    4. Sort tutorial group keys numerically:\n",
    "        a. Create empty key_list\n",
    "        b. For each key in data:\n",
    "            - Split key at '-' and convert number to integer\n",
    "            - Add number to key_list\n",
    "        c. Sort key_list numerically\n",
    "        d. Convert numbers back to 'G-X' format\n",
    "    \n",
    "    5. Create new dictionary with sorted keys:\n",
    "        - Use dictionary comprehension to create student_data\n",
    "        - Keys are sorted 'G-X' strings\n",
    "        - Values are lists of student data from original dict\n",
    "    \n",
    "    6. Write to JSON file:\n",
    "        - Open json_filename for writing\n",
    "        - Dump student_data with indent=2 for readability\n",
    "    \n",
    "    7. Return json_filename\n",
    "</pre>"
   ]
  },
  {
   "cell_type": "code",
   "execution_count": 3,
   "id": "dc00d31f",
   "metadata": {},
   "outputs": [],
   "source": [
    "def tut_grp_json(path: str,json_filename: str='tut_grp'): #path: takes in filepath of csv file; json_filename: specify the file name of the json file without the filetype\n",
    "    json_filename=json_filename+'.json'\n",
    "    data={} #overall data\n",
    "    with open(path,'r',newline='') as fObj:\n",
    "        reader=csv.DictReader(fObj)\n",
    "        for row in reader:\n",
    "            key=row.pop('Tutorial Group') #remove the tutorial group from the row and store the variable\n",
    "            if key not in data:\n",
    "                data[key]=[row] #the value of data[key] is a list; if key not in, create new key\n",
    "            else:\n",
    "                data[key].append(row) #if key already exist, append to the existing list corresponding to the key\n",
<<<<<<< HEAD
    "        ###sorting out the keys to make sure they are in order\n",
    "        key_list=[]\n",
    "        for key,student_info in data.items():\n",
    "            key_list.append(int(key.split('-')[1])) #split string at '-'.\n",
    "            key_list.sort() #sort from 1-120 in numerical order because python does not sort 'G-xx' in numerical order\n",
    "        def myFunc(i):\n",
    "            return 'G-'+str(i)\n",
    "        key_list=list(map(myFunc,key_list))\n",
    "        student_data = {key: data[key] for key in key_list}\n",
=======
    "    \n",
    "    ###sort students per in tut grp from highest to lowest gpa\n",
    "    for key in data:\n",
    "        sorted_by_gpa=sorted(data[key],key=lambda student: student['CGPA'],reverse=True) #sort all the students according to cgpa\n",
    "        data[key]=sorted_by_gpa\n",
>>>>>>> 7ddc30b900910e02b8ea252ce3b8445e6bb25409
    "\n",
    "        ###writing the the student_data object into a json file\n",
    "        with open(json_filename,'w') as fObj:\n",
    "            #json file cannot be modifiable\n",
    "            json.dump(student_data,fObj,indent=2) #write to json file so the sorted dictionary cannot be accidentally messed up\n",
    "        return json_filename\n"
   ]
  },
  {
   "cell_type": "markdown",
   "id": "76dc5aa3",
   "metadata": {},
   "source": [
    "<h5 style=\"line-height:.5; margin:0; padding:0; font-weight:bold;\">Why .json?</h5>\n",
    "<p>As data stored in a .json file cannot be modified. Thus, ensuring that data is not modified while being used in the program.</p>\n",
    "<h5 style=\"text-decoration:underline; line-height:1; margin:20px 0 0 0; padding:20px 0 0 0; font-weight:bold;\">Loading Sorted Data into Python Program</h5>\n",
    "<p>Define a function called <b>load_json_to_dict</b> that returns sorted data from the tut_grp.json file into a global variable called values that called the function to store data in a dictionary</p>"
   ]
  },
  {
   "cell_type": "code",
   "execution_count": 4,
   "id": "a6706dfe",
   "metadata": {},
   "outputs": [],
   "source": [
    "def load_json_to_dict(json_file: str): #loads json file to a dictionary and returns a dictionary\n",
    "    with open(json_file,'r') as jFileObj:\n",
    "        values=json.load(jFileObj)\n",
    "    return values"
   ]
  },
  {
   "cell_type": "code",
   "execution_count": 5,
   "id": "199887c3",
   "metadata": {},
   "outputs": [],
   "source": [
    "json_file=tut_grp_json(path)\n",
    "\n",
    "values=load_json_to_dict(json_file)"
   ]
  },
  {
   "cell_type": "code",
   "execution_count": null,
   "id": "ba3eddfb",
   "metadata": {},
   "outputs": [],
   "source": [
    "def summarise_data_json(student_data: dict, json_filename: str = 'summarised_data'): #student_data is dictionary onjects of student info sorted via tutorial group, dictionary should be loaded via json.load()  \n",
    "    json_filename += '.json'\n",
    "    data_set={}\n",
    "\n",
    "    ###sum up all possible faculties and gender\n",
    "    schools=set()\n",
    "    genders=set()\n",
    "    for tut_grp,tut_data in student_data.items(): \n",
    "        grp_set=set(map(lambda student: student['School'], tut_data))\n",
    "        gender_set=set(map(lambda student: student['Gender'], tut_data))\n",
    "        schools|=grp_set #keep updating the set 'schools' to check how many schools are there in total\n",
    "        genders|=gender_set\n",
    "    \n",
    "    ###sorting the numerical data via tutorial group\n",
    "    for tut_grp,tut_data in student_data.items(): #tut_data is a list of dictionary object of student info\n",
    "        summary_stats={}\n",
    "        ###gpa data\n",
    "        gpa_list=list(map(lambda student : student[\"CGPA\"], tut_data )) #each iterable stored in the list (dictionary of student info) will be passed thru lambda function\n",
    "        summary_stats['CGPA']=gpa_list\n",
    "        \n",
    "        ###faculty data\n",
    "        all_schools=list(map(lambda student : student['School'], tut_data))\n",
    "        def count_sch(sch):\n",
    "            return (sch,all_schools.count(sch))\n",
    "        school_tuple=tuple(map(count_sch,schools)) #schools is a set\n",
    "        school_dict=dict(school_tuple)\n",
    "        summary_stats['Schools']=school_dict\n",
    "\n",
    "        ###gender data\n",
    "        all_genders=list(map(lambda student : student['Gender'], tut_data))\n",
    "        def count_gender(gender):\n",
    "            return (gender,all_genders.count(gender))\n",
    "        gender_tuple=tuple(map(count_gender,genders)) #genders is a set\n",
    "        gender_dict=dict(gender_tuple) \n",
    "        summary_stats['Genders']=gender_dict\n",
    "\n",
    "        ###count of students\n",
    "        summary_stats['Count']=len(gpa_list)\n",
    "\n",
    "        data_set[tut_grp]=summary_stats\n",
    "        #The dict() constructor builds dictionaries directly from iterable sequences of key-value pairs\n",
    "        #https://docs.python.org/3/tutorial/datastructures.html#dictionaries\n",
    "\n",
    "    \n",
    "    with open(json_filename,'w') as fObj:\n",
    "        json.dump(data_set,fObj,indent=2)\n",
    "    \n",
    "    return json_filename"
   ]
  }
 ],
 "metadata": {
  "kernelspec": {
   "display_name": "Python 3",
   "language": "python",
   "name": "python3"
  },
  "language_info": {
   "codemirror_mode": {
    "name": "ipython",
    "version": 3
   },
   "file_extension": ".py",
   "mimetype": "text/x-python",
   "name": "python",
   "nbconvert_exporter": "python",
   "pygments_lexer": "ipython3",
   "version": "3.13.6"
  }
 },
 "nbformat": 4,
 "nbformat_minor": 5
}
