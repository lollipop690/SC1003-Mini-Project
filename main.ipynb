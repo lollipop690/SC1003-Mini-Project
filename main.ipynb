{
 "cells": [
  {
   "cell_type": "markdown",
   "id": "443faea9",
   "metadata": {},
   "source": [
    "<h1 style=\\\"margin:0; line-height:1.5; padding:0;\\\">Intro to Computational Thinking and Programming - Group 4</h1>\n",
    "<p style=\\\"margin:0;line-height:1; padding:0; font-size:20px;\\\">Team Allocation Simulator</p>\n",
    "<h5 style=\\\"margin:0; margin-top:10px; line-height:1; padding:0; padding-top:10px; color:rgba(231, 60, 60, 1); text-decoration: underline; font-weight:bold;\\\">Objective:</h5>\n",
    "<li>School Affliation: No majority of students from the same school</li>\n",
    "<li>Gender: No majority of students of the same gender</li>\n",
    "<li>Current CGPA: To balance academic performance</li>"
   ]
  },
  {
   "cell_type": "code",
   "execution_count": null,
   "id": "45c65c87",
   "metadata": {},
   "outputs": [],
   "source": [
    "import csv\n",
    "import json\n",
    "import matplotlib.pyplot as plt\n",
    "import seaborn as sns\n",
    "path='records.csv'\n",
    "tut=5"
   ]
  },
  {
   "cell_type": "markdown",
   "id": "8a01cff5",
   "metadata": {},
   "source": [
    " <h5 style=\"text-decoration:underline; margin:0; padding:0; line-height:1; font-weight:bold;\">Reading and Sorting Data</h5>\n",
    "        <p>Define a function called <b>tut_grp_json</b> that reads data from the <b>records.csv file</b> and creates a <b>tut_grp.json file</b> that contains the students details sorted based on their tutorial group in a numerical order</p>\n",
    "       <b style=\"line-height:.5; margin:0; padding:0;\"><u>Pseudocode:</u></b>\n",
    "        <p style=\"line-height: 1.5; margin:0; padding:0;\">Function Name: tut_grp_json</p>\n",
    "        <p style=\"line-height: 2; margin:0; padding:0;\">Parameters: path, json_filename</p>\n",
    "        <p style=\"line-height: 1.3; margin:0; padding:0;\">Local Variables: json_filename(name of json file), data(where student data stored), fObj(file)\n",
    "         reader(data from records.csv), row(separate rows of records.csv), key(key of data dictionary)\n",
    "       key_list(where list of keys stored), student_data(sorted student data stored) </p>\n",
    "        <ol>\n",
    "           <li>Append .json to <b>json_filename</b></li>\n",
    "           <li>create empty dicitonary to store data from records.csv</li>\n",
    "           <li>Open and read records.csv</li>\n",
    "           <li>Use DictReader, a class from csv library to read data in records.csv</li>\n",
    "           <li>For each row in records.csv:</li>\n",
    "           <ol>\n",
    "               <li>Extract \"Tutorial Group\" from row to be used as key of dictionary</li>\n",
    "               <ul>\n",
    "                   <li>If <b>key</b> not in <b>data</b>: Create new list with row as first item</li>\n",
    "                   <li>Else append row to existing list of the existing key</li>\n",
    "               </ul>\n",
    "           </ol>\n",
    "           <li>Sort Students by CGPA:</li>\n",
    "           <ol>\n",
    "            <ul>\n",
    "                <li>Loop through each group in the data.</li>\n",
    "                <li>Sort the list of students for that group by their CGPA, highest first</li>\n",
    "                <li>Update the group's student list with the sorted result.</li>\n",
    "            </ul>\n",
    "           </ol>\n",
    "           <li>Sort tutorial group numerically:</li>\n",
    "           <ol>\n",
    "               <li>Create an empty list(key_list) to store numerical value of tutorial groups</li>\n",
    "               <ul>\n",
    "                   <li>Split each key in <b>data</b> by <b>\"-\"</b> and add the separated tutorial group number to <b>key_list</b></li>\n",
    "                   <li>Use the sort method to sort values in key_list in numerical order</li>\n",
    "                   <li>Concantate the letter G to all numerical values (e.g. G-1) in key_list</li>\n",
    "               </ul>\n",
    "           </ol>\n",
    "               <li>Store the sorted data into a new dictionary(student_data) with tutorial groups being the key of each item of the dictionary</li>\n",
    "               <li>Write student_data into tut_grp.json file</li>\n",
    "               <li>Return json file back to global variable(json_file)</li>\n",
    "       </ol>\n",
    "       \n"
   ]
  },
  {
   "cell_type": "code",
   "execution_count": null,
   "id": "9772a575",
   "metadata": {},
   "outputs": [],
   "source": [
    "def tut_grp_json(path: str): #path: takes in filepath of csv file; json_filename: specify the file name of the json file without the filetype\n",
    "    json_filename='student_data.json'\n",
    "    data={} #overall data\n",
    "    with open(path,'r',newline='') as fObj:\n",
    "        reader=csv.DictReader(fObj)\n",
    "        for row in reader:\n",
    "            gpa=row[\"CGPA\"]\n",
    "            row[\"CGPA\"]=float(gpa)\n",
    "            key=row.pop('Tutorial Group') #remove the tutorial group from the row and store the variable\n",
    "            if key not in data:\n",
    "                data[key]=[row] #the value of data[key] is a list; if key not in, create new key\n",
    "            else:\n",
    "                data[key].append(row) #if key already exist, append to the existing list corresponding to the key\n",
    "    \n",
    "    ###sort students per in tut grp from lowest to highest gpa\n",
    "    for key in data:\n",
    "        sorted_by_gpa=sorted(data[key],key=lambda student: student['CGPA'],reverse=True) #sort all the students according to cgpa\n",
    "        data[key]=sorted_by_gpa\n",
    "\n",
    "    ###sorting out the keys to make sure they are in order\n",
    "    key_list=[]\n",
    "    for key,student_info in data.items():\n",
    "        key_list.append(int(key.split('-')[1])) #split string at '-'.\n",
    "        key_list.sort() #sort from 1-120 in numerical order because python does not sort 'G-xx' in numerical order\n",
    "    def myFunc(i):\n",
    "        return 'G-'+str(i)\n",
    "    key_list=list(map(myFunc,key_list))\n",
    "    student_data = {key: data[key] for key in key_list}\n",
    "\n",
    "    ###writing the the student_data object into a json file\n",
    "    with open(json_filename,'w') as fObj:\n",
    "        #json file cannot be modifiable\n",
    "        json.dump(student_data,fObj,indent=2) #write to json file so the sorted dictionary cannot be accidentally messed up\n",
    "    return json_filename"
   ]
  },
  {
   "cell_type": "markdown",
   "id": "68f0e868",
   "metadata": {},
   "source": [
    "<h5 style=\"line-height:.5; margin:0; padding:0; font-weight:bold;\">Why .json?</h5>\n",
    "<p>As data stored in a .json file cannot be modified. Thus, ensuring that data is not modified while being used in the program.</p>\n",
    "<h5 style=\"text-decoration:underline; line-height:1; margin:20px 0 0 0; padding:20px 0 0 0; font-weight:bold;\">Loading Sorted Data into Python Program</h5>\n",
    "<p>Define a function called <b>load_json_to_dict</b> that returns sorted data from the tut_grp.json file into a global variable called values that called the function to store data in a dictionary</p>"
   ]
  },
  {
   "cell_type": "code",
   "execution_count": null,
   "id": "f2712217",
   "metadata": {},
   "outputs": [],
   "source": [
    "def load_json_to_dict(json_file: str): #loads json file to a dictionary and returns a dictionary\n",
    "    if '.json' not in json_file:\n",
    "        json_file+='.json'\n",
    "    with open(json_file,'r') as jFileObj:\n",
    "        values=json.load(jFileObj)\n",
    "    return values"
   ]
  },
  {
   "cell_type": "code",
   "execution_count": null,
   "id": "b6c20d31",
   "metadata": {},
   "outputs": [],
   "source": [
    "json_student_data=tut_grp_json(path) #filepath to read to load student_data.json"
   ]
  },
  {
   "cell_type": "markdown",
   "id": "ac543ed5",
   "metadata": {},
   "source": [
    "</b>Summarised data</b>"
   ]
  },
  {
   "cell_type": "code",
   "execution_count": null,
   "id": "37160458",
   "metadata": {},
   "outputs": [],
   "source": [
    "def summarise_data_json(json_student_data): #student_data is dictionary onjects of student info sorted via tutorial group, dictionary should be loaded via json.load()  \n",
    "    if json_student_data!='student_data.json':\n",
    "        raise ValueError\n",
    "\n",
    "    student_data=load_json_to_dict(json_student_data)\n",
    "    \n",
    "    json_filename= 'summarised_data.json'\n",
    "    data_set={}\n",
    "\n",
    "    ###sum up all possible faculties and gender\n",
    "    schools=set()\n",
    "    genders=set()\n",
    "    for tut_grp,tut_data in student_data.items(): \n",
    "        grp_set=set(map(lambda student: student['School'], tut_data))\n",
    "        gender_set=set(map(lambda student: student['Gender'], tut_data))\n",
    "        schools|=grp_set #keep updating the set 'schools' to check how many schools are there in total\n",
    "        genders|=gender_set\n",
    "    \n",
    "    ###sorting the numerical data via tutorial group\n",
    "    for tut_grp,tut_data in student_data.items(): #tut_data is a list of dictionary object of student info\n",
    "        summary_stats={}\n",
    "        ###gpa data\n",
    "        gpa_list=list(map(lambda student : student[\"CGPA\"], tut_data )) #each iterable stored in the list (dictionary of student info) will be passed thru lambda function\n",
    "        summary_stats['CGPA']=gpa_list\n",
    "        \n",
    "        ###faculty data\n",
    "        all_schools=list(map(lambda student : student['School'], tut_data))\n",
    "        def count_sch(sch):\n",
    "            return (sch,all_schools.count(sch))\n",
    "        school_tuple=tuple(map(count_sch,schools)) #schools is a set\n",
    "        school_dict=dict(school_tuple)\n",
    "        summary_stats['Schools']=school_dict\n",
    "\n",
    "        ###gender data\n",
    "        all_genders=list(map(lambda student : student['Gender'], tut_data))\n",
    "        def count_gender(gender):\n",
    "            return (gender,all_genders.count(gender))\n",
    "        gender_tuple=tuple(map(count_gender,genders)) #genders is a set\n",
    "        gender_dict=dict(gender_tuple) \n",
    "        summary_stats['Genders']=gender_dict\n",
    "\n",
    "        ###count of students\n",
    "        summary_stats['Count']=len(gpa_list)\n",
    "\n",
    "        data_set[tut_grp]=summary_stats\n",
    "        #The dict() constructor builds dictionaries directly from iterable sequences of key-value pairs\n",
    "        #https://docs.python.org/3/tutorial/datastructures.html#dictionaries\n",
    "\n",
    "    \n",
    "    with open(json_filename,'w') as fObj:\n",
    "        json.dump(data_set,fObj,indent=2)\n",
    "    \n",
    "    return json_filename"
   ]
  },
  {
   "cell_type": "code",
   "execution_count": null,
   "id": "33d24a7b",
   "metadata": {},
   "outputs": [],
   "source": [
    "json_summarised_data=summarise_data_json(json_student_data) #filepath to read to load summarised_data.json"
   ]
  },
  {
   "cell_type": "markdown",
   "id": "c527472a",
   "metadata": {},
   "source": [
    "This code is used to select just a specific few group of data, raises error if exceeded 8"
   ]
  },
  {
   "cell_type": "code",
   "execution_count": null,
   "id": "9a792ff3",
   "metadata": {},
   "outputs": [],
   "source": [
    "def tut_grp_select(data_dict: dict,selected_keys: tuple): #data_dict can be either summarised data or overall grp data; selected_keys is the selection of tutorial groups in list form, cannot contain more then 8 groups\n",
    "    if len(selected_keys)>8:\n",
    "        raise ValueError\n",
    "    return {key: data_dict[key] for key in selected_keys} #dictionary comprehension"
   ]
  },
  {
   "cell_type": "markdown",
   "id": "e5abf49a",
   "metadata": {},
   "source": [
    "</b>Data Analysis</b>"
   ]
  },
  {
   "cell_type": "code",
   "execution_count": null,
   "id": "3999a0fb",
   "metadata": {},
   "outputs": [],
   "source": [
    "def sort_data_by_CGPA(stat_data: dict): #used to sort out data by just gpa\n",
    "\n",
    "    ###labels and data for box_plot or any other forms of data\n",
    "    axes_labels=tuple([tut_grp for tut_grp in stat_data.keys()])\n",
    "    data=tuple([stat_data[tut_grp]['CGPA'] for tut_grp in axes_labels]) #make sure each gpa list corresponds to the axes_labels index\n",
    "    \n",
    "    return data,axes_labels"
   ]
  },
  {
   "cell_type": "markdown",
   "id": "1ab8424f",
   "metadata": {},
   "source": [
    "This code is used to boxplot all the groups"
   ]
  },
  {
   "cell_type": "code",
   "execution_count": null,
   "id": "fdc6ec7a",
   "metadata": {},
   "outputs": [],
   "source": [
    "def boxplot_all_tut_grps(json_summarised_data): #filepath to summarised_data.json\n",
    "    if json_summarised_data!='summarised_data.json':\n",
    "        raise ValueError\n",
    "    stats_data=load_json_to_dict(json_summarised_data)\n",
    "    fig, axes=plt.subplots(nrows=4,ncols=3) #4x3 subplots\n",
    "    \n",
    "    ###plot box\n",
    "    data,axes_x=sort_data_by_CGPA(stats_data)\n",
    "    start=0\n",
    "    end=10\n",
    "    for row in range(4):\n",
    "        for col in range(3):\n",
    "            plot_data=data[start:end]\n",
    "            labels_data=axes_x[start:end]\n",
    "            df=dict(zip(labels_data,plot_data))\n",
    "            sns.boxplot(data=df,ax=axes[row,col]) #plotting 10 values per box\n",
    "            sns.stripplot(data=df,ax=axes[row,col],color='black',alpha=0.35)\n",
    "            #axes[row,col]\n",
    "            start+=10\n",
    "            end+=10\n",
    "\n",
    "    ###show box plot\n",
    "    plt.tight_layout()\n",
    "    plt.show()"
   ]
  },
  {
   "cell_type": "markdown",
   "id": "3baedb3b",
   "metadata": {},
   "source": [
    "This code is used to just boxplot some groups"
   ]
  },
  {
   "cell_type": "code",
   "execution_count": null,
   "id": "9c63b6da",
   "metadata": {},
   "outputs": [],
   "source": [
    "def boxplot_some_tut_grps(json_summarised_data, selected_keys: tuple): #filepath to summarised_data.json\n",
    "    if json_summarised_data!='summarised_data.json':\n",
    "        raise ValueError\n",
    "\n",
    "    all_data=load_json_to_dict(json_summarised_data)\n",
    "    stat_data=tut_grp_select(all_data,selected_keys)\n",
    "\n",
    "    ###plot box\n",
    "    data,axes_x=sort_data_by_CGPA(stat_data)\n",
    "    df=dict(zip(axes_x,data))\n",
    "    sns.boxplot(df)\n",
    "    sns.stripplot(df,color='black',alpha=0.35)\n",
    "\n",
    "    ###show box plot\n",
    "    plt.show()"
   ]
  },
  {
   "cell_type": "code",
   "execution_count": null,
   "id": "c9a92df2",
   "metadata": {},
   "outputs": [],
   "source": [
    "boxplot_all_tut_grps(json_summarised_data)\n"
   ]
  },
  {
   "cell_type": "code",
   "execution_count": null,
   "id": "f4a228fa",
   "metadata": {},
   "outputs": [],
   "source": [
    "boxplot_some_tut_grps(json_summarised_data,('G-1','G-6','G-7','G-67'))"
   ]
  },
  {
   "cell_type": "markdown",
   "id": "a971d00d",
   "metadata": {},
   "source": [
    "Data of gender ratio amongst tutorial groups"
   ]
  },
  {
   "cell_type": "code",
   "execution_count": null,
   "id": "457e7cae",
   "metadata": {},
   "outputs": [],
   "source": [
    "def sort_data_by_gender(stats_data: dict): #used to sort out data by just Schools\n",
    "    ###labels and data for box_plot or any other forms of data\n",
    "    tut_grp=[tut_grp for tut_grp in stats_data]\n",
    "    male=[data['Genders']['Male'] for tut_grp,data in stats_data.items()]\n",
    "    female=[data['Genders']['Female'] for tut_grp,data in stats_data.items()]\n",
    "    return tut_grp,male,female\n"
   ]
  },
  {
   "cell_type": "code",
   "execution_count": null,
   "id": "782e7f59",
   "metadata": {},
   "outputs": [],
   "source": [
    "def plot_bar(json_summarised_data):\n",
    "    stats_data=load_json_to_dict(json_summarised_data)\n",
    "    tut_grps,male,female=sort_data_by_gender(stats_data)\n",
    "\n",
    "    fig, axes=plt.subplots(nrows=4,ncols=3)\n",
    "\n",
    "    ###plot box\n",
    "    start=0\n",
    "    end=10\n",
    "    for row in range(4):\n",
    "        for col in range(3):\n",
    "            indx=np.arange(len(tut_grps[start:end]))\n",
    "\n",
    "            axes[row,col].set_xticks(indx,tut_grps[start:end])\n",
    "            bar_width=0.25\n",
    "\n",
    "            male_bar=axes[row,col].bar(indx-bar_width/2,male[start:end],width=bar_width,label='Male',)\n",
    "            female_bar=axes[row,col].bar(indx+bar_width/2,female[start:end],width=bar_width,label='Female')\n",
    "\n",
    "            start+=10\n",
    "            end+=10\n",
    "\n",
    "    fig.legend([male_bar,female_bar],['Male','Female'])\n",
    "    ###show box plot\n",
    "    plt.tight_layout()\n",
    "    plt.show()"
   ]
  },
  {
   "cell_type": "code",
   "execution_count": null,
   "id": "302d0a3e",
   "metadata": {},
   "outputs": [],
   "source": [
    "plot_bar(json_summarised_data)"
   ]
  }
 ],
 "metadata": {
  "kernelspec": {
   "display_name": "project",
   "language": "python",
   "name": "python3"
  },
  "language_info": {
   "name": "python",
   "version": "3.13.5"
  }
 },
 "nbformat": 4,
 "nbformat_minor": 5
}
