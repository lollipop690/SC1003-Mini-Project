{
 "cells": [
  {
   "cell_type": "markdown",
   "id": "a9bf1bf7",
   "metadata": {
    "vscode": {
     "languageId": "html"
    }
   },
   "source": [
    "<h1 style=\"margin:0; line-height:1; padding:0;\">Intro to Computational Thinking and Programming - Group 4</h1>\n",
    "<h3 style=\"margin:0; line-height:1; padding:0; font-weight:normal;\">Team Allocation Simulator</h3>\n"
   ]
  },
  {
   "cell_type": "code",
   "execution_count": 2,
   "id": "ec5f92f8",
   "metadata": {},
   "outputs": [],
   "source": [
    "import csv\n",
    "import matplotlib.pyplot as plt\n",
    "import json\n",
    "path = \"records.csv\" #this is the path to the data file\n",
    "teamsize = 5"
   ]
  },
  {
   "cell_type": "markdown",
   "id": "79ab32d8",
   "metadata": {},
   "source": [
    "This block imports the necessary libraries, provides the path to the data file\n",
    "and defines a variable for the teamsize to allow for further customisation"
   ]
  },
  {
   "cell_type": "code",
   "execution_count": 3,
   "id": "dc00d31f",
   "metadata": {},
   "outputs": [],
   "source": [
    "def tut_grp_json(path: str,json_filename: str='tut_grp'): #path: takes in filepath of csv file; json_filename: specify the file name of the json file without the filetype\n",
    "    json_filename=json_filename+'.json'\n",
    "    data={} #overall data\n",
    "    with open(path,'r',newline='') as fObj:\n",
    "        reader=csv.DictReader(fObj)\n",
    "        for row in reader:\n",
    "            key=row.pop('Tutorial Group') #remove the tutorial group from the row and store the variable\n",
    "            if key not in data:\n",
    "                data[key]=[row] #the value of data[key] is a list; if key not in, create new key\n",
    "            else:\n",
    "                data[key].append(row) #if key already exist, append to the existing list corresponding to the key\n",
    "        ###sorting out the keys to make sure they are in order\n",
    "        key_list=[]\n",
    "        for key,student_info in data.items():\n",
    "            key_list.append(int(key.split('-')[1])) #split string at '-'.\n",
    "            key_list.sort() #sort from 1-120 in numerical order because python does not sort 'G-xx' in numerical order\n",
    "        def myFunc(i):\n",
    "            return 'G-'+str(i)\n",
    "        key_list=list(map(myFunc,key_list))\n",
    "        student_data = {key: data[key] for key in key_list}\n",
    "\n",
    "        ###writing the the student_data object into a json file\n",
    "        with open(json_filename,'w') as fObj:\n",
    "            #json file cannot be modifiable\n",
    "            json.dump(student_data,fObj,indent=2) #write to json file so the sorted dictionary cannot be accidentally messed up\n",
    "        return json_filename\n"
   ]
  },
  {
   "cell_type": "markdown",
   "id": "df58bc2f",
   "metadata": {},
   "source": [
    "a .json file is because it is not in a format such that it can be modified, therefore this will prevent the json formatted dictionary from being accidentally mutated later on in the code."
   ]
  },
  {
   "cell_type": "code",
   "execution_count": 4,
   "id": "a6706dfe",
   "metadata": {},
   "outputs": [],
   "source": [
    "def load_json_to_dict(json_file: str): #loads json file to a dictionary and returns a dictionary\n",
    "    with open(json_file,'r') as jFileObj:\n",
    "        values=json.load(jFileObj)\n",
    "    return values"
   ]
  },
  {
   "cell_type": "markdown",
   "id": "afeacf02",
   "metadata": {},
   "source": [
    "we can now use the above functions tut_grp_json load_json_to_dict to store the json file to our current file directory and to load the json file to a dictionary object"
   ]
  },
  {
   "cell_type": "code",
   "execution_count": 5,
   "id": "199887c3",
   "metadata": {},
   "outputs": [],
   "source": [
    "json_file=tut_grp_json(path)\n",
    "\n",
    "values=load_json_to_dict(json_file)"
   ]
  }
 ],
 "metadata": {
  "kernelspec": {
   "display_name": "Python 3",
   "language": "python",
   "name": "python3"
  },
  "language_info": {
   "codemirror_mode": {
    "name": "ipython",
    "version": 3
   },
   "file_extension": ".py",
   "mimetype": "text/x-python",
   "name": "python",
   "nbconvert_exporter": "python",
   "pygments_lexer": "ipython3",
   "version": "3.13.6"
  }
 },
 "nbformat": 4,
 "nbformat_minor": 5
}
