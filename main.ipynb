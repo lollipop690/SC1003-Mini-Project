{
 "cells": [
  {
   "cell_type": "markdown",
   "id": "443faea9",
   "metadata": {},
   "source": [
    "<h1 style=\\\"margin:0; line-height:1.5; padding:0;\\\">Intro to Computational Thinking and Programming - Group 4</h1>\n",
    "<p style=\\\"margin:0;line-height:1; padding:0; font-size:20px;\\\">Team Allocation Simulator</p>\n",
    "<h5 style=\\\"margin:0; margin-top:10px; line-height:1; padding:0; padding-top:10px; color:rgba(231, 60, 60, 1); text-decoration: underline; font-weight:bold;\\\">Objective:</h5>\n",
    "<li>School Affliation: No majority of students from the same school</li>\n",
    "<li>Gender: No majority of students of the same gender</li>\n",
    "<li>Current CGPA: To balance academic performance</li>"
   ]
  },
  {
   "cell_type": "code",
   "execution_count": null,
   "id": "45c65c87",
   "metadata": {},
   "outputs": [],
   "source": [
    "import csv\n",
    "import json\n",
    "import matplotlib.pyplot as plt\n",
    "import seaborn as sns\n",
    "path='records.csv'\n",
    "tut=5"
   ]
  },
  {
   "cell_type": "markdown",
   "id": "8a01cff5",
   "metadata": {},
   "source": [
    " <h5 style=\\\"text-decoration:underline; margin:0; padding:0; line-height:1; font-weight:bold;\\\">Reading and Sorting Data</h5>\n",
    "        <p>Define a function called <b>tut_grp_json</b> that reads data from the <b>records.csv file</b> and creates a <b>tut_grp.json file</b> that contains the students details sorted based on their tutorial group in a numerical order</p>\n",
    "       <b style=\\\"line-height:.5; margin:0; padding:0;\\\"><u>Pseudocode:</u></b>\n",
    "        <p style=\\\"line-height: 1.5; margin:0; padding:0;\\\">Function Name: tut_grp_json</p>\n",
    "        <p style=\\\"line-height: 2; margin:0; padding:0;\\\">Parameters: path, json_filename</p>\n",
    "        <p style=\\\"line-height: 1.3; margin:0; padding:0;\\\">Local Variables: json_filename(name of json file), data(where student data stored), fObj(file)\n",
    "         reader(data from records.csv), row(separate rows of records.csv), key(key of data dictionary)\n",
    "       key_list(where list of keys stored), student_data(sorted student data stored) </p>\n",
    "        <ol>\n",
    "           <li>Append .json to <b>json_filename</b></li>\n",
    "           <li>create empty dicitonary to store data from records.csv</li>\n",
    "           <li>Open and read records.csv</li>\n",
    "           <li>Use DictReader, a class from csv library to read data in records.csv</li>\n",
    "           <li>For each row in records.csv:</li>\n",
    "           <ol>\n",
    "               <li>Extract \\\"Tutorial Group\\\" from row to be used as key of dictionary</li>\n",
    "               <ul>\n",
    "                   <li>If <b>key</b> not in <b>data</b>: Create new list with row as first item</li>\n",
    "                   <li>Else append row to existing list of the existing key</li>\n",
    "               </ul>\n",
    "           </ol>\n",
    "           <li>Sort tutorial group numerically:</li>\n",
    "           <ol>\n",
    "               <li>Create an empty list(key_list) to store numerical value of tutorial groups</li>\n",
    "               <ul>\n",
    "                   <li>Split each key in <b>data</b> by <b>\\\"-\\\"</b> and add the separated tutorial group number to <b>key_list</b></li>\n",
    "                   <li>Use the sort method to sort values in key_list in numerical order</li>\n",
    "                   <li>Concantate the letter G to all numerical values (e.g. G-1) in key_list</li>\n",
    "               </ul>\n",
    "           </ol>\n",
    "               <li>Store the sorted data into a new dictionary(student_data) with tutorial groups being the key of each item of the dictionary</li>\n",
    "               <li>Write student_data into tut_grp.json file</li>\n",
    "               <li>Return json file back to global variable(json_file)</li>\n",
    "       </ol>\n",
    "       \n"
   ]
  },
  {
   "cell_type": "code",
   "execution_count": null,
   "id": "9772a575",
   "metadata": {},
   "outputs": [],
   "source": [
    "def tut_grp_json(path: str,json_filename: str='student_data'): #path: takes in filepath of csv file; json_filename: specify the file name of the json file without the filetype\n",
    "    json_filename=json_filename+'.json'\n",
    "    data={} #overall data\n",
    "    with open(path,'r',newline='') as fObj:\n",
    "        reader=csv.DictReader(fObj)\n",
    "        for row in reader:\n",
    "            gpa=row[\"CGPA\"]\n",
    "            row[\"CGPA\"]=float(gpa)\n",
    "            key=row.pop('Tutorial Group') #remove the tutorial group from the row and store the variable\n",
    "            if key not in data:\n",
    "                data[key]=[row] #the value of data[key] is a list; if key not in, create new key\n",
    "            else:\n",
    "                data[key].append(row) #if key already exist, append to the existing list corresponding to the key\n",
    "    \n",
    "    ###sort students per in tut grp from highest to lowest gpa\n",
    "    for key in data:\n",
    "        sorted_by_gpa=sorted(data[key],key=lambda student: student['CGPA'],reverse=True) #sort all the students according to cgpa\n",
    "        data[key]=sorted_by_gpa\n",
    "\n",
    "    ###sorting out the keys to make sure they are in order\n",
    "    key_list=[]\n",
    "    for key,student_info in data.items():\n",
    "        key_list.append(int(key.split('-')[1])) #split string at '-'.\n",
    "        key_list.sort() #sort from 1-120 in numerical order because python does not sort 'G-xx' in numerical order\n",
    "    def myFunc(i):\n",
    "        return 'G-'+str(i)\n",
    "    key_list=list(map(myFunc,key_list))\n",
    "    student_data = {key: data[key] for key in key_list}\n",
    "\n",
    "    ###writing the the student_data object into a json file\n",
    "    with open(json_filename,'w') as fObj:\n",
    "        #json file cannot be modifiable\n",
    "        json.dump(student_data,fObj,indent=2) #write to json file so the sorted dictionary cannot be accidentally messed up\n",
    "    return json_filename"
   ]
  },
  {
   "cell_type": "markdown",
   "id": "68f0e868",
   "metadata": {},
   "source": [
    "<h5 style=\\\"line-height:.5; margin:0; padding:0; font-weight:bold;\\\">Why .json?</h5>\n",
    "<p>As data stored in a .json file cannot be modified. Thus, ensuring that data is not modified while being used in the program.</p>\n",
    "<h5 style=\\\"text-decoration:underline; line-height:1; margin:20px 0 0 0; padding:20px 0 0 0; font-weight:bold;\\\">Loading Sorted Data into Python Program</h5>\n",
    "<p>Define a function called <b>load_json_to_dict</b> that returns sorted data from the tut_grp.json file into a global variable called values that called the function to store data in a dictionary</p>"
   ]
  },
  {
   "cell_type": "code",
   "execution_count": null,
   "id": "f2712217",
   "metadata": {},
   "outputs": [],
   "source": [
    "def load_json_to_dict(json_file: str): #loads json file to a dictionary and returns a dictionary\n",
    "    with open(json_file,'r') as jFileObj:\n",
    "        values=json.load(jFileObj)\n",
    "    return values"
   ]
  }
 ],
 "metadata": {
  "kernelspec": {
   "display_name": "project",
   "language": "python",
   "name": "python3"
  },
  "language_info": {
   "name": "python",
   "version": "3.13.5"
  }
 },
 "nbformat": 4,
 "nbformat_minor": 5
}
